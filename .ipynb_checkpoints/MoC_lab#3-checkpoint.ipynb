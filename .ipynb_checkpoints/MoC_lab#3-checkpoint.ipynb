{
 "cells": [
  {
   "cell_type": "code",
   "execution_count": 1,
   "id": "d60051f3",
   "metadata": {},
   "outputs": [],
   "source": [
    "from Crypto.Util import number\n",
    "import gmpy2\n",
    "import numpy as np"
   ]
  },
  {
   "cell_type": "code",
   "execution_count": 39,
   "id": "49005129",
   "metadata": {},
   "outputs": [],
   "source": [
    "def CRT_e3(c1, c2, c3, n1, n2, n3):\n",
    "    c = (c1 * n2*n3 * number.inverse(n2*n3, n1) + \n",
    "         c2 * n1*n3 * number.inverse(n1*n3, n2) + \n",
    "         c3 * n1*n2 * number.inverse(n1*n2, n3))%(n1*n2*n3)\n",
    "    \n",
    "    return c"
   ]
  },
  {
   "cell_type": "code",
   "execution_count": 43,
   "id": "5ad3dffe",
   "metadata": {},
   "outputs": [],
   "source": [
    "def CRT_e5(c1, c2, c3, c4, c5, n1, n2, n3, n4, n5):\n",
    "    N = n1 * n2 * n3 * n4 * n5\n",
    "    \n",
    "    c = (c1 * (n2 * n3 * n4 * n5) * number.inverse(n2 * n3 * n4 * n5, n1) + \n",
    "         c2 * (n1 * n3 * n4 * n5) * number.inverse(n1 * n3 * n4 * n5, n2) +\n",
    "         c3 * (n1 * n2 * n4 * n5) * number.inverse(n1 * n2 * n4 * n5, n3) +\n",
    "         c4 * (n1 * n2 * n3 * n5) * number.inverse(n1 * n2 * n3 * n5, n4) +\n",
    "         c5 * (n1 * n2 * n3 * n4) * number.inverse(n1 * n2 * n3 * n4, n5)) % N\n",
    "    \n",
    "    return c"
   ]
  },
  {
   "cell_type": "code",
   "execution_count": 38,
   "id": "5cd8eea9",
   "metadata": {},
   "outputs": [],
   "source": [
    "def nth_root(x, n):\n",
    "    \n",
    "    upper_bound = 1\n",
    "    while upper_bound ** n <= x:\n",
    "        upper_bound *= 2\n",
    "    lower_bound = upper_bound // 2\n",
    "    \n",
    "    while lower_bound < upper_bound:\n",
    "        mid = (lower_bound + upper_bound) // 2\n",
    "        mid_nth = mid ** n\n",
    "        if lower_bound < mid and mid_nth < x:\n",
    "            lower_bound = mid\n",
    "        elif upper_bound > mid and mid_nth > x:\n",
    "            upper_bound = mid\n",
    "        else:\n",
    "            \n",
    "            return mid\n",
    "    return mid + 1"
   ]
  },
  {
   "cell_type": "markdown",
   "id": "88c1b071",
   "metadata": {},
   "source": [
    "**Hastad's broadcast attack**"
   ]
  },
  {
   "cell_type": "markdown",
   "id": "f185039a",
   "metadata": {},
   "source": [
    "RSA_256_3\n",
    "\n",
    "C1 = 0x52d4f7e46dc366af6eb43b7ba542e37e81ac3dec5bbe097a3084302ea61dd2d7\n",
    "\n",
    "N1 = 0xDA0812C51CE3910EBF1A8651A7D2A0FD8D815A6F2FC1434E69EA8C091E0020C1\n",
    "\n",
    "C2 = 0x3ab176ce63a5edcfb99a30d1c19a9da0138f3f25391d2963f7d32c3716916173\n",
    "\n",
    "N2 = 0xC23D3224615DAAF509EA3C5A913CCB4A35E3DB711549E699447ABBFE4C0BAE09\n",
    "\n",
    "C3 = 0x0619a95f944aae1cb4d3cbca405895d850ee3670224900c9c4926c21ee1382b5\n",
    "\n",
    "N3 = 0x9B0E9B4CFA1EB500A92D9A469FAF99050DF7321594092E1444FAA56602DFEA5F"
   ]
  },
  {
   "cell_type": "code",
   "execution_count": 37,
   "id": "a67550f8",
   "metadata": {},
   "outputs": [
    {
     "data": {
      "text/plain": [
       "'0x1ffffffffffffffff0032151f8102029d7632596a26ae62aa097b52cee00e'"
      ]
     },
     "execution_count": 37,
     "metadata": {},
     "output_type": "execute_result"
    }
   ],
   "source": [
    "def rsa_256_3(e):\n",
    "    c1 = int('52d4f7e46dc366af6eb43b7ba542e37e81ac3dec5bbe097a3084302ea61dd2d7', 16)\n",
    "    n1 = int('DA0812C51CE3910EBF1A8651A7D2A0FD8D815A6F2FC1434E69EA8C091E0020C1', 16)\n",
    "    c2 = int('3ab176ce63a5edcfb99a30d1c19a9da0138f3f25391d2963f7d32c3716916173', 16)\n",
    "    n2 = int('C23D3224615DAAF509EA3C5A913CCB4A35E3DB711549E699447ABBFE4C0BAE09', 16)\n",
    "    c3 = int('0619a95f944aae1cb4d3cbca405895d850ee3670224900c9c4926c21ee1382b5', 16)\n",
    "    n3 = int('9B0E9B4CFA1EB500A92D9A469FAF99050DF7321594092E1444FAA56602DFEA5F', 16)\n",
    "    \n",
    "    \n",
    "    C = CRT_e3(c1, c2, c3, n1, n2, n3)\n",
    "    M = int(nth_root(C, e))\n",
    "    \n",
    "    return hex(M)\n",
    "\n",
    "rsa_256_3(3)"
   ]
  },
  {
   "cell_type": "markdown",
   "id": "87febb41",
   "metadata": {},
   "source": [
    "RSA_512_3\n",
    "\n",
    "C1 = 0x2b397b968f87f8a4548be1d89ecb11f7931edd81db64506d769d1fb13664d638bf9988089e55e6bdb83476f590c629106ab6e02079babe38ca511d5f2a6b6a6f\n",
    "\n",
    "N1 = 0xEFEB4CD1E39A253381C8112DA1355A6FBB18791126D9A70FDD606609734AA9F136F899C99E3E392D6AD014D8415B446037A6F62E3825255892515BC0B76DED81\n",
    "\n",
    "C2 = 0x1ea86c67f81e7546fbe84a7a7d809cc903437a31ab8c0b36f7c1d98b3235702345eeb68c1e02905e5a03b2f7f64cf25785a18f052d6734de3de355cd7cafa078\n",
    "\n",
    "N2 = 0xC3BE92EE214A604AF9AB9BC7A0829B325395A617A97E1894E6F7AECD3F490287832668B75C2B461F0B5081DAF00E75042FCF155F0E9EE830B9526FAEB78B6EAD\n",
    "\n",
    "C3 = 0x75fccfdf3c7dc23984453f186e24c547bb3a16b65e36c8f0a9d559c2e4105e97bc457fc19a5cead2c2b97a53a9750e826f2ae2322fb585a5314cc19771f69309\n",
    "\n",
    "N3 = 0xC8AF9079A89589672E3EDFD28221B67AFD0E0BFED136C964459E1EF2FDD6ADC5861D4C59683B3024B92E7FDD33257C6F32A8953850E1BEE9EA5DF1C25E5D20FB"
   ]
  },
  {
   "cell_type": "code",
   "execution_count": 40,
   "id": "48a5792d",
   "metadata": {},
   "outputs": [
    {
     "data": {
      "text/plain": [
       "'0x1ffffffffffffffff00e9cc92bf302f10ba2dfe0caf0cc8a0f92ce6c9f33b6331164809dea6f5412e36eb739e0c338701495ef1c4b0ad7bf19dd4f021cc8b'"
      ]
     },
     "execution_count": 40,
     "metadata": {},
     "output_type": "execute_result"
    }
   ],
   "source": [
    "def rsa_512_3(e):\n",
    "    c1 = int('2b397b968f87f8a4548be1d89ecb11f7931edd81db64506d769d1fb13664d638bf9988089e55e6bdb83476f590c629106ab6e02079babe38ca511d5f2a6b6a6f', 16)\n",
    "    n1 = int('EFEB4CD1E39A253381C8112DA1355A6FBB18791126D9A70FDD606609734AA9F136F899C99E3E392D6AD014D8415B446037A6F62E3825255892515BC0B76DED81', 16)\n",
    "    c2 = int('1ea86c67f81e7546fbe84a7a7d809cc903437a31ab8c0b36f7c1d98b3235702345eeb68c1e02905e5a03b2f7f64cf25785a18f052d6734de3de355cd7cafa078', 16)\n",
    "    n2 = int('C3BE92EE214A604AF9AB9BC7A0829B325395A617A97E1894E6F7AECD3F490287832668B75C2B461F0B5081DAF00E75042FCF155F0E9EE830B9526FAEB78B6EAD', 16)\n",
    "    c3 = int('75fccfdf3c7dc23984453f186e24c547bb3a16b65e36c8f0a9d559c2e4105e97bc457fc19a5cead2c2b97a53a9750e826f2ae2322fb585a5314cc19771f69309', 16)\n",
    "    n3 = int('C8AF9079A89589672E3EDFD28221B67AFD0E0BFED136C964459E1EF2FDD6ADC5861D4C59683B3024B92E7FDD33257C6F32A8953850E1BEE9EA5DF1C25E5D20FB', 16)\n",
    "    \n",
    "    C = CRT_e3(c1, c2, c3, n1, n2, n3)\n",
    "    M = int(nth_root(C, e))\n",
    "    \n",
    "    return hex(M)\n",
    "\n",
    "rsa_512_3(3)"
   ]
  },
  {
   "cell_type": "markdown",
   "id": "d835aa89",
   "metadata": {},
   "source": [
    "RSA_512_5 (13 mod 3 == 1)\n",
    "\n",
    "C1 = 0x220e2d31e358d30f36764d4eb0ec9ccf2e9c0bea8fcf1cfdebe0c268bd735cbc486ecc345a0a902425856704ca7848cf853a1a245b4da965ffeffb991681da45\n",
    "\n",
    "N1 = 0xB34FB83D649696CE2B2CCE603B17094C5CECEC02FE7D8AE72BDFE363D0EF8979461456D0272ECE968911AB49D351AB686BFD0156A717F287B3D7802C7D05A573\n",
    "\n",
    "C2 = 0x8afc4882895ff9d9502e481c76e9ea9d178b798f6e84bdd23c0b6a8fa71961f51d4e7e46668e345193a772464c161cbd8b499ad01223838b6a0e380ee9972d61\n",
    "\n",
    "N2 = 0xAC7C06182E148FF011FDBDCA49F871839DAAF8F9E8BA0B2653458C238A7C7F966FFE1071A6D7EA350E2211B41FE899E6C00977DD41D9ECA61C62994FB9AE3E99\n",
    "\n",
    "C3 = 0x787774fef66c057e632a50bf088f4bc33e1f7ad069bb9ff2d346f143a34b9f600f82c7ccc6ea1446b2c2e2c6c88dd3e07e872e6012e0db6928cc101b06f8de2f\n",
    "\n",
    "N3 = 0xB9057697D2DEFCD336B1471515C7B273B786631545F92D22A8AA585AC3B38F96FB35E9BB6D98D92DDAA3B42E8176E55DE59FC80FD2428AD6C1184DAF4F296A67\n",
    "\n",
    "C4 = 0x70b9e5af07032ae74ceb582e554a17aec3e1670d008dd379ceb3cc4216b2cb2c77b99256c3c4ad51ece6b08917816387db75eeaeb7d0092eb0c013de4c764bd3\n",
    "\n",
    "N4 = 0xD4B3B33EB616A42ADD6B550F5CCB7C958EAE49DC4800CEBB185E861CD6EC6FD7749F59AFFFC3E01B976ED7A966B19C329DF3A0D92DC4FE8B96B98E22426792D3\n",
    "\n",
    "C5 = 0x21a30b450576ad79e63b98368539d0278594f105870643dc44b8e7336bd315378bac44ab26781f933810d0fc6a66c8b0dc2c6482d1202cd85f200df63756d562\n",
    "\n",
    "N5 = 0xC3CB7DD44CD2E4CF70A3474728D5E62C87BEB864FA1543C6F5076C13D2C2447E1C5ABBF7D584D49CDFED641BF0B788257BFE3E0365511488565D9DCC499EA9FB"
   ]
  },
  {
   "cell_type": "code",
   "execution_count": 46,
   "id": "99de204b",
   "metadata": {},
   "outputs": [
    {
     "data": {
      "text/plain": [
       "'0x1ffffffffffffffff00faa27c345cc04c6e22302830aba69237cd50f1ee2d5f6de4818394b125982df8ee80eed40ad04a0c3a62e79b3aa19e92ed5e91a81f'"
      ]
     },
     "execution_count": 46,
     "metadata": {},
     "output_type": "execute_result"
    }
   ],
   "source": [
    "def rsa_512_5(e):\n",
    "    c1 = int('220e2d31e358d30f36764d4eb0ec9ccf2e9c0bea8fcf1cfdebe0c268bd735cbc486ecc345a0a902425856704ca7848cf853a1a245b4da965ffeffb991681da45', 16)\n",
    "    n1 = int('B34FB83D649696CE2B2CCE603B17094C5CECEC02FE7D8AE72BDFE363D0EF8979461456D0272ECE968911AB49D351AB686BFD0156A717F287B3D7802C7D05A573', 16)\n",
    "    c2 = int('8afc4882895ff9d9502e481c76e9ea9d178b798f6e84bdd23c0b6a8fa71961f51d4e7e46668e345193a772464c161cbd8b499ad01223838b6a0e380ee9972d61', 16)\n",
    "    n2 = int('AC7C06182E148FF011FDBDCA49F871839DAAF8F9E8BA0B2653458C238A7C7F966FFE1071A6D7EA350E2211B41FE899E6C00977DD41D9ECA61C62994FB9AE3E99', 16)\n",
    "    c3 = int('787774fef66c057e632a50bf088f4bc33e1f7ad069bb9ff2d346f143a34b9f600f82c7ccc6ea1446b2c2e2c6c88dd3e07e872e6012e0db6928cc101b06f8de2f', 16)\n",
    "    n3 = int('B9057697D2DEFCD336B1471515C7B273B786631545F92D22A8AA585AC3B38F96FB35E9BB6D98D92DDAA3B42E8176E55DE59FC80FD2428AD6C1184DAF4F296A67', 16)\n",
    "    c4 = int('70b9e5af07032ae74ceb582e554a17aec3e1670d008dd379ceb3cc4216b2cb2c77b99256c3c4ad51ece6b08917816387db75eeaeb7d0092eb0c013de4c764bd3', 16)\n",
    "    n4 = int('D4B3B33EB616A42ADD6B550F5CCB7C958EAE49DC4800CEBB185E861CD6EC6FD7749F59AFFFC3E01B976ED7A966B19C329DF3A0D92DC4FE8B96B98E22426792D3', 16)\n",
    "    c5 = int('21a30b450576ad79e63b98368539d0278594f105870643dc44b8e7336bd315378bac44ab26781f933810d0fc6a66c8b0dc2c6482d1202cd85f200df63756d562', 16)\n",
    "    n5 = int('C3CB7DD44CD2E4CF70A3474728D5E62C87BEB864FA1543C6F5076C13D2C2447E1C5ABBF7D584D49CDFED641BF0B788257BFE3E0365511488565D9DCC499EA9FB', 16)\n",
    "    \n",
    "    C = CRT_e5(c1, c2, c3, c4, c5, n1, n2, n3, n4, n5)\n",
    "    M = int(nth_root(C, e))\n",
    "    \n",
    "    return hex(M)\n",
    " \n",
    "rsa_512_5(5)"
   ]
  },
  {
   "cell_type": "code",
   "execution_count": null,
   "id": "db4f3430",
   "metadata": {},
   "outputs": [],
   "source": []
  },
  {
   "cell_type": "markdown",
   "id": "fc077d75",
   "metadata": {},
   "source": [
    "**MitM-attack**\n",
    "\n",
    "RSA_256_3 (мінімальний)\n",
    "\n",
    "C = 0x9ffb6833b6c55688296a7929cd76fcd196f20f159f39644cb53f1ed9b0e718e8e0e0863c4d034323b4cede40495367c6e519f69b14bc344ed8f8428f59625224\n",
    "\n",
    "N = 0xB0DB31CB2D5A30B496102504A95B3CB50D63E2E2FCB39A39DCB6AC6CF5FF0A5F35F7D881F11B34EFCEEE338FA8D520E6CF4790ADD4E67488569943D59CC741D1"
   ]
  },
  {
   "cell_type": "code",
   "execution_count": 4,
   "id": "1e68a0ea",
   "metadata": {},
   "outputs": [
    {
     "name": "stdout",
     "output_type": "stream",
     "text": [
      "true\n",
      "true\n"
     ]
    },
    {
     "data": {
      "text/plain": [
       "'0xa44cd'"
      ]
     },
     "execution_count": 4,
     "metadata": {},
     "output_type": "execute_result"
    }
   ],
   "source": [
    "def rsa_512_20(e):\n",
    "    c = int('9ffb6833b6c55688296a7929cd76fcd196f20f159f39644cb53f1ed9b0e718e8e0e0863c4d034323b4cede40495367c6e519f69b14bc344ed8f8428f59625224', 16)\n",
    "    n = int('B0DB31CB2D5A30B496102504A95B3CB50D63E2E2FCB39A39DCB6AC6CF5FF0A5F35F7D881F11B34EFCEEE338FA8D520E6CF4790ADD4E67488569943D59CC741D1', 16)\n",
    "    \n",
    "    X = []\n",
    "    for i in range(2 ** 10):\n",
    "        x = []\n",
    "        x.append(i + 1)\n",
    "        x.append(((i + 1) ** e) % n)\n",
    "        X.append(x)\n",
    "    \n",
    "    C = []\n",
    "    for i in range(1024):\n",
    "        C.append((c * gmpy2.invert(X[i][1], n)) % n)\n",
    "    \n",
    "    ind = []\n",
    "    for i in range(len(C)):\n",
    "        for j in range(len(X)):\n",
    "            if C[i] == X[j][1]:\n",
    "                ind.append(i)\n",
    "                ind.append(j)\n",
    "    \n",
    "    # check for (T*S)^e\n",
    "    if c == (C[ind[0]] * (((ind[0] + 1) ** e) % n) % n):\n",
    "        print(\"true\")\n",
    "    else:\n",
    "        print(\"false\")\n",
    "    \n",
    "    if (((ind[1] + 1) * (ind[0] + 1)) ** e) % n == c:\n",
    "        print(\"true\")\n",
    "    else:\n",
    "        print(\"false\")\n",
    "    \n",
    "    return hex((ind[1] + 1) * (ind[0] + 1))\n",
    "    \n",
    "rsa_512_20(65537)"
   ]
  },
  {
   "cell_type": "markdown",
   "id": "81bbde37",
   "metadata": {},
   "source": [
    "RSA_1024_20 (середній)\n",
    "\n",
    "C = 0x8ca038be26e8cc7229c25312e37693d14077d440fed86ade047ce6d33f57420cfdb539795c6d232787321100c8b58a532956724455ceaa3a5c31d060131a205a33f802ceb0a603eb4d722426952ddc85104cae011ac09c2dcf5f374d328fe6051822436de3935f8312db5ceb07803de9e23f0e6a4abef850d183c3e4b20d2e13\n",
    "\n",
    "N = 0xC93F5BCC500C507706046ABEC8DF7F152B5C49F0852DFA282A7F7AB4D971C3C5CAC1BDB82951E7761C8B8755C1E602718E45F8E63E7846300D702A57C544E87D33F872F1AEFA4CBAF054D64CFDA26EB6FFF32C2973D6579FC78EE2603EA4AB9C558B59475BE83D246F681815970015C5B2EDD3ED5AEE9542099FF2994EAFE769"
   ]
  },
  {
   "cell_type": "code",
   "execution_count": 6,
   "id": "b43fa325",
   "metadata": {},
   "outputs": [
    {
     "name": "stdout",
     "output_type": "stream",
     "text": [
      "true\n",
      "true\n"
     ]
    },
    {
     "data": {
      "text/plain": [
       "'0xa664b'"
      ]
     },
     "execution_count": 6,
     "metadata": {},
     "output_type": "execute_result"
    }
   ],
   "source": [
    "def rsa_1024_20(e):\n",
    "    c = int('8ca038be26e8cc7229c25312e37693d14077d440fed86ade047ce6d33f57420cfdb539795c6d232787321100c8b58a532956724455ceaa3a5c31d060131a205a33f802ceb0a603eb4d722426952ddc85104cae011ac09c2dcf5f374d328fe6051822436de3935f8312db5ceb07803de9e23f0e6a4abef850d183c3e4b20d2e13', 16)\n",
    "    n = int('C93F5BCC500C507706046ABEC8DF7F152B5C49F0852DFA282A7F7AB4D971C3C5CAC1BDB82951E7761C8B8755C1E602718E45F8E63E7846300D702A57C544E87D33F872F1AEFA4CBAF054D64CFDA26EB6FFF32C2973D6579FC78EE2603EA4AB9C558B59475BE83D246F681815970015C5B2EDD3ED5AEE9542099FF2994EAFE769', 16)\n",
    "    \n",
    "    X = []\n",
    "    for i in range(2 ** 10):\n",
    "        x = []\n",
    "        x.append(i + 1)\n",
    "        x.append(((i + 1) ** e) % n)\n",
    "        X.append(x)\n",
    "    \n",
    "    C = []\n",
    "    for i in range(1024):\n",
    "        C.append((c * gmpy2.invert(X[i][1], n)) % n)\n",
    "    \n",
    "    ind = []\n",
    "    for i in range(len(C)):\n",
    "        for j in range(len(X)):\n",
    "            if C[i] == X[j][1]:\n",
    "                ind.append(i)\n",
    "                ind.append(j)\n",
    "    \n",
    "    # check for (T*S)^e\n",
    "    if c == (C[ind[0]] * (((ind[0] + 1) ** e) % n) % n):\n",
    "        print(\"true\")\n",
    "    else:\n",
    "        print(\"false\")\n",
    "    \n",
    "    if (((ind[1] + 1) * (ind[0] + 1)) ** e) % n == c:\n",
    "        print(\"true\")\n",
    "    else:\n",
    "        print(\"false\")\n",
    "    \n",
    "    return hex((ind[1] + 1) * (ind[0] + 1))\n",
    "\n",
    "rsa_1024_20(65537)"
   ]
  },
  {
   "cell_type": "markdown",
   "id": "0e8e0eea",
   "metadata": {},
   "source": [
    "RSA_2048_20 (достатній)\n",
    "\n",
    "C = 0x590a7b64da2b76061ea96c999aacf921c834b5bf31da759e5075b5a31e0576b5ed2039802495fd15b2f1111bf1556fdda781bee0ca36f9ad418bbf5fda01ab8c7b1626b9b6bed2621ca155d10f70719c26e995607a336f08d3e193f3b4b4a76c3dddc5971e5e86e6f97ebf2d10f1013553675e1e1a13df33f72e5624fbe6ee55e7cd22fa0431ef5a5866212f21550d8607a4c454533c987eb9da6eaad2fbccae46f4417b0aacb8de60eedc129e219979f7c968ce9565369ef9bd08e8f5ae888ba3d82fd1faeccf3f3390ef3fc7aee263af64813b59f1b21e09876575e330cde6caafefaf8b908aa4d58aae698492032f9ad3c599fccfcfa8c5b5b99165ff9e39\n",
    "\n",
    "N = 0xEDE7F0C022AED9E0F314F0A872564DA2B3E84C76A7B36D23626BE0EDB2501341842E39EDBC5DE20F56B4474594076ABA4BBD21B0C747439A629C30C5B0E2E89364B07DFABCB75FDCDB9306650A8FB1C62623B04BA779E5549988A8F426CAF4A3450C84C1654F022678EB6F96C35CF91B3A632BDC05604B9C4DDDCBECAA372C0D7FB4E97089CB8263BA6E2AD503C75FF1E7839709B959AEA3DCA3996BFB46C5A0F91F462849234D38E589DFB92C2BEB358523255F8E0B1515A0E72DAEB7F48AA92EBC6BCB98676854F78395085A3E809DAA7543A5E98415BDD4A751AFB161A2B952C59E2C0207D9A41DD4C7C659B7EDCAAEB8FD075331BF465751FA78A8691BEB"
   ]
  },
  {
   "cell_type": "code",
   "execution_count": 7,
   "id": "1c87257b",
   "metadata": {},
   "outputs": [
    {
     "name": "stdout",
     "output_type": "stream",
     "text": [
      "true\n",
      "true\n"
     ]
    },
    {
     "data": {
      "text/plain": [
       "'0xaeb7d'"
      ]
     },
     "execution_count": 7,
     "metadata": {},
     "output_type": "execute_result"
    }
   ],
   "source": [
    "def rsa_2048_20(e):\n",
    "    c = int('590a7b64da2b76061ea96c999aacf921c834b5bf31da759e5075b5a31e0576b5ed2039802495fd15b2f1111bf1556fdda781bee0ca36f9ad418bbf5fda01ab8c7b1626b9b6bed2621ca155d10f70719c26e995607a336f08d3e193f3b4b4a76c3dddc5971e5e86e6f97ebf2d10f1013553675e1e1a13df33f72e5624fbe6ee55e7cd22fa0431ef5a5866212f21550d8607a4c454533c987eb9da6eaad2fbccae46f4417b0aacb8de60eedc129e219979f7c968ce9565369ef9bd08e8f5ae888ba3d82fd1faeccf3f3390ef3fc7aee263af64813b59f1b21e09876575e330cde6caafefaf8b908aa4d58aae698492032f9ad3c599fccfcfa8c5b5b99165ff9e39', 16)\n",
    "    n = int('EDE7F0C022AED9E0F314F0A872564DA2B3E84C76A7B36D23626BE0EDB2501341842E39EDBC5DE20F56B4474594076ABA4BBD21B0C747439A629C30C5B0E2E89364B07DFABCB75FDCDB9306650A8FB1C62623B04BA779E5549988A8F426CAF4A3450C84C1654F022678EB6F96C35CF91B3A632BDC05604B9C4DDDCBECAA372C0D7FB4E97089CB8263BA6E2AD503C75FF1E7839709B959AEA3DCA3996BFB46C5A0F91F462849234D38E589DFB92C2BEB358523255F8E0B1515A0E72DAEB7F48AA92EBC6BCB98676854F78395085A3E809DAA7543A5E98415BDD4A751AFB161A2B952C59E2C0207D9A41DD4C7C659B7EDCAAEB8FD075331BF465751FA78A8691BEB', 16)\n",
    "    \n",
    "    X = []\n",
    "    for i in range(2 ** 10):\n",
    "        x = []\n",
    "        x.append(i + 1)\n",
    "        x.append(((i + 1) ** e) % n)\n",
    "        X.append(x)\n",
    "    \n",
    "    C = []\n",
    "    for i in range(1024):\n",
    "        C.append((c * gmpy2.invert(X[i][1], n)) % n)\n",
    "    \n",
    "    ind = []\n",
    "    for i in range(len(C)):\n",
    "        for j in range(len(X)):\n",
    "            if C[i] == X[j][1]:\n",
    "                ind.append(i)\n",
    "                ind.append(j)\n",
    "    \n",
    "    # check for (T*S)^e\n",
    "    if c == (C[ind[0]] * (((ind[0] + 1) ** e) % n) % n):\n",
    "        print(\"true\")\n",
    "    else:\n",
    "        print(\"false\")\n",
    "    \n",
    "    if (((ind[1] + 1) * (ind[0] + 1)) ** e) % n == c:\n",
    "        print(\"true\")\n",
    "    else:\n",
    "        print(\"false\")\n",
    "    \n",
    "    return hex((ind[1] + 1) * (ind[0] + 1))\n",
    "\n",
    "rsa_2048_20(65537)"
   ]
  },
  {
   "cell_type": "markdown",
   "id": "5f84c9e8",
   "metadata": {},
   "source": [
    "RSA_2048_56 (високий)\n",
    "\n",
    "C = 0x7d25d60cb5259aa465d5a8157fb13849262a77dac1a50837d62d0079fbddad278a51660ddbed0905c0b6ccb484abb0cf422f67da7fefcbf8c8b531b8558f515c52aa67ffce01649232b736cf91316b4893729daf91d891081b40732badd7c26ef49ad9a87fba88bfa04f1e1f9f3a51ed96d4842a34c32d56a5d76e038e137dc2df402d953293c5c66e1c893de6eaa8102728fe7fbbe2c142e6b1f82b1719ad564b78df4e430f2460fcf0ecfc3bdbce213c876a0953d87bdea8bb44793e039cf2ceb67abc829b94d20f2ffeebe94a97c06e070639171852c1f8b2f3fce30ad3e80b0ecd104d263024df499811cb20dbbc6351a1fbcb39a769f08dc670b6ab9321\n",
    "\n",
    "N = 0xA4D8121629DB3F4CC2FC3A23E420BCF8482EF368A09CC81EAA9A57D61C499818239A883A8CC8FDD2EE30087036F097A6714102C1D49F12438C7AAC07226CF112F60B67A09C0FC97A0ED9464B47ABED9E02C6466B629781F3445F5D29B25D9DDB934B45C0F5AE7E07A9D3E0C4DBB5EF745B064AB1E36858740E9FB9532EDBFC3FFC3BF9A3153627D722AA187252A9127FBCF4B6B8C4D349EF3A4E132350846EBB65DD53F3D71197A0D3B176894E54F90A8810C90E071F4E69E82C6AFDEBBD1C8784D6091CCF45FCB70C82003B583A065EC72C8067A57FF89D28DD35760EA4FA8D59173758247B081EB677D78635A043D9E6DDCF97F067A41745811FD03C6196FD"
   ]
  },
  {
   "cell_type": "code",
   "execution_count": null,
   "id": "7f85d398",
   "metadata": {},
   "outputs": [],
   "source": []
  },
  {
   "cell_type": "code",
   "execution_count": null,
   "id": "dc464aeb",
   "metadata": {},
   "outputs": [],
   "source": []
  },
  {
   "cell_type": "code",
   "execution_count": null,
   "id": "09246402",
   "metadata": {},
   "outputs": [],
   "source": []
  }
 ],
 "metadata": {
  "kernelspec": {
   "display_name": "Python 3",
   "language": "python",
   "name": "python3"
  },
  "language_info": {
   "codemirror_mode": {
    "name": "ipython",
    "version": 3
   },
   "file_extension": ".py",
   "mimetype": "text/x-python",
   "name": "python",
   "nbconvert_exporter": "python",
   "pygments_lexer": "ipython3",
   "version": "3.8.8"
  }
 },
 "nbformat": 4,
 "nbformat_minor": 5
}
