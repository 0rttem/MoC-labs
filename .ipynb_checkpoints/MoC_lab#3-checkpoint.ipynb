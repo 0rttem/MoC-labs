{
 "cells": [
  {
   "cell_type": "code",
   "execution_count": 1,
   "id": "d60051f3",
   "metadata": {},
   "outputs": [],
   "source": [
    "from Crypto.Util import number\n",
    "import gmpy2\n",
    "import numpy as np"
   ]
  },
  {
   "cell_type": "code",
   "execution_count": null,
   "id": "a300cf34",
   "metadata": {},
   "outputs": [],
   "source": []
  },
  {
   "cell_type": "code",
   "execution_count": null,
   "id": "a67550f8",
   "metadata": {},
   "outputs": [],
   "source": []
  },
  {
   "cell_type": "code",
   "execution_count": null,
   "id": "d400c003",
   "metadata": {},
   "outputs": [],
   "source": []
  },
  {
   "cell_type": "code",
   "execution_count": null,
   "id": "db4f3430",
   "metadata": {},
   "outputs": [],
   "source": []
  },
  {
   "cell_type": "markdown",
   "id": "fc077d75",
   "metadata": {},
   "source": [
    "**MitM-attack**\n",
    "\n",
    "RSA_256_3 (мінімальний)\n",
    "\n",
    "C = 0x9ffb6833b6c55688296a7929cd76fcd196f20f159f39644cb53f1ed9b0e718e8e0e0863c4d034323b4cede40495367c6e519f69b14bc344ed8f8428f59625224\n",
    "\n",
    "N = 0xB0DB31CB2D5A30B496102504A95B3CB50D63E2E2FCB39A39DCB6AC6CF5FF0A5F35F7D881F11B34EFCEEE338FA8D520E6CF4790ADD4E67488569943D59CC741D1"
   ]
  },
  {
   "cell_type": "code",
   "execution_count": 4,
   "id": "1e68a0ea",
   "metadata": {},
   "outputs": [
    {
     "name": "stdout",
     "output_type": "stream",
     "text": [
      "true\n",
      "true\n"
     ]
    },
    {
     "data": {
      "text/plain": [
       "'0xa44cd'"
      ]
     },
     "execution_count": 4,
     "metadata": {},
     "output_type": "execute_result"
    }
   ],
   "source": [
    "def rsa_512_20(e):\n",
    "    c = int('9ffb6833b6c55688296a7929cd76fcd196f20f159f39644cb53f1ed9b0e718e8e0e0863c4d034323b4cede40495367c6e519f69b14bc344ed8f8428f59625224', 16)\n",
    "    n = int('B0DB31CB2D5A30B496102504A95B3CB50D63E2E2FCB39A39DCB6AC6CF5FF0A5F35F7D881F11B34EFCEEE338FA8D520E6CF4790ADD4E67488569943D59CC741D1', 16)\n",
    "    \n",
    "    X = []\n",
    "    for i in range(2 ** 10):\n",
    "        x = []\n",
    "        x.append(i + 1)\n",
    "        x.append(((i + 1) ** e) % n)\n",
    "        X.append(x)\n",
    "    \n",
    "    C = []\n",
    "    for i in range(1024):\n",
    "        C.append((c * gmpy2.invert(X[i][1], n)) % n)\n",
    "    \n",
    "    ind = []\n",
    "    for i in range(len(C)):\n",
    "        for j in range(len(X)):\n",
    "            if C[i] == X[j][1]:\n",
    "                ind.append(i)\n",
    "                ind.append(j)\n",
    "    \n",
    "    # check for (T*S)^e\n",
    "    if c == (C[ind[0]] * (((ind[0] + 1) ** e) % n) % n):\n",
    "        print(\"true\")\n",
    "    else:\n",
    "        print(\"false\")\n",
    "    \n",
    "    if (((ind[1] + 1) * (ind[0] + 1)) ** e) % n == c:\n",
    "        print(\"true\")\n",
    "    else:\n",
    "        print(\"false\")\n",
    "    \n",
    "    return hex((ind[1] + 1) * (ind[0] + 1))\n",
    "    \n",
    "rsa_512_20(65537)"
   ]
  },
  {
   "cell_type": "code",
   "execution_count": null,
   "id": "dc464aeb",
   "metadata": {},
   "outputs": [],
   "source": []
  },
  {
   "cell_type": "code",
   "execution_count": null,
   "id": "09246402",
   "metadata": {},
   "outputs": [],
   "source": []
  }
 ],
 "metadata": {
  "kernelspec": {
   "display_name": "Python 3",
   "language": "python",
   "name": "python3"
  },
  "language_info": {
   "codemirror_mode": {
    "name": "ipython",
    "version": 3
   },
   "file_extension": ".py",
   "mimetype": "text/x-python",
   "name": "python",
   "nbconvert_exporter": "python",
   "pygments_lexer": "ipython3",
   "version": "3.8.8"
  }
 },
 "nbformat": 4,
 "nbformat_minor": 5
}
