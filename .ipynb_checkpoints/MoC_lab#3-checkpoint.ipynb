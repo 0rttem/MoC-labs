{
 "cells": [
  {
   "cell_type": "code",
   "execution_count": 1,
   "id": "d60051f3",
   "metadata": {},
   "outputs": [],
   "source": [
    "from Crypto.Util import number\n",
    "import gmpy2\n",
    "import numpy as np"
   ]
  },
  {
   "cell_type": "code",
   "execution_count": 11,
   "id": "a300cf34",
   "metadata": {},
   "outputs": [],
   "source": [
    "def CRT_e3(c1, c2, c3, n1, n2, n3):\n",
    "    c = (c1 * n2 * n3 * number.inverse(n2 * n3, n1) +\n",
    "         c2 * n1 * n3 * number.inverse(n1 * n3, n2) + \n",
    "         c3 * n1 * n2 * number.inverse(n1 * n2, n3) % (n1 * n2 * n3))"
   ]
  },
  {
   "cell_type": "code",
   "execution_count": null,
   "id": "87101e0f",
   "metadata": {},
   "outputs": [],
   "source": []
  },
  {
   "cell_type": "code",
   "execution_count": null,
   "id": "25222cd3",
   "metadata": {},
   "outputs": [],
   "source": []
  },
  {
   "cell_type": "code",
   "execution_count": null,
   "id": "807f2904",
   "metadata": {},
   "outputs": [],
   "source": []
  },
  {
   "cell_type": "code",
   "execution_count": null,
   "id": "a67550f8",
   "metadata": {},
   "outputs": [],
   "source": []
  },
  {
   "cell_type": "code",
   "execution_count": null,
   "id": "d400c003",
   "metadata": {},
   "outputs": [],
   "source": []
  },
  {
   "cell_type": "code",
   "execution_count": null,
   "id": "db4f3430",
   "metadata": {},
   "outputs": [],
   "source": []
  },
  {
   "cell_type": "markdown",
   "id": "fc077d75",
   "metadata": {},
   "source": [
    "**MitM-attack**\n",
    "\n",
    "RSA_256_3 (мінімальний)\n",
    "\n",
    "C = 0x9ffb6833b6c55688296a7929cd76fcd196f20f159f39644cb53f1ed9b0e718e8e0e0863c4d034323b4cede40495367c6e519f69b14bc344ed8f8428f59625224\n",
    "\n",
    "N = 0xB0DB31CB2D5A30B496102504A95B3CB50D63E2E2FCB39A39DCB6AC6CF5FF0A5F35F7D881F11B34EFCEEE338FA8D520E6CF4790ADD4E67488569943D59CC741D1"
   ]
  },
  {
   "cell_type": "code",
   "execution_count": 4,
   "id": "1e68a0ea",
   "metadata": {},
   "outputs": [
    {
     "name": "stdout",
     "output_type": "stream",
     "text": [
      "true\n",
      "true\n"
     ]
    },
    {
     "data": {
      "text/plain": [
       "'0xa44cd'"
      ]
     },
     "execution_count": 4,
     "metadata": {},
     "output_type": "execute_result"
    }
   ],
   "source": [
    "def rsa_512_20(e):\n",
    "    c = int('9ffb6833b6c55688296a7929cd76fcd196f20f159f39644cb53f1ed9b0e718e8e0e0863c4d034323b4cede40495367c6e519f69b14bc344ed8f8428f59625224', 16)\n",
    "    n = int('B0DB31CB2D5A30B496102504A95B3CB50D63E2E2FCB39A39DCB6AC6CF5FF0A5F35F7D881F11B34EFCEEE338FA8D520E6CF4790ADD4E67488569943D59CC741D1', 16)\n",
    "    \n",
    "    X = []\n",
    "    for i in range(2 ** 10):\n",
    "        x = []\n",
    "        x.append(i + 1)\n",
    "        x.append(((i + 1) ** e) % n)\n",
    "        X.append(x)\n",
    "    \n",
    "    C = []\n",
    "    for i in range(1024):\n",
    "        C.append((c * gmpy2.invert(X[i][1], n)) % n)\n",
    "    \n",
    "    ind = []\n",
    "    for i in range(len(C)):\n",
    "        for j in range(len(X)):\n",
    "            if C[i] == X[j][1]:\n",
    "                ind.append(i)\n",
    "                ind.append(j)\n",
    "    \n",
    "    # check for (T*S)^e\n",
    "    if c == (C[ind[0]] * (((ind[0] + 1) ** e) % n) % n):\n",
    "        print(\"true\")\n",
    "    else:\n",
    "        print(\"false\")\n",
    "    \n",
    "    if (((ind[1] + 1) * (ind[0] + 1)) ** e) % n == c:\n",
    "        print(\"true\")\n",
    "    else:\n",
    "        print(\"false\")\n",
    "    \n",
    "    return hex((ind[1] + 1) * (ind[0] + 1))\n",
    "    \n",
    "rsa_512_20(65537)"
   ]
  },
  {
   "cell_type": "markdown",
   "id": "0c7161a0",
   "metadata": {},
   "source": [
    "RSA_1024_20 (середній)\n",
    "\n",
    "C = 0x8ca038be26e8cc7229c25312e37693d14077d440fed86ade047ce6d33f57420cfdb539795c6d232787321100c8b58a532956724455ceaa3a5c31d060131a205a33f802ceb0a603eb4d722426952ddc85104cae011ac09c2dcf5f374d328fe6051822436de3935f8312db5ceb07803de9e23f0e6a4abef850d183c3e4b20d2e13\n",
    "\n",
    "N = 0xC93F5BCC500C507706046ABEC8DF7F152B5C49F0852DFA282A7F7AB4D971C3C5CAC1BDB82951E7761C8B8755C1E602718E45F8E63E7846300D702A57C544E87D33F872F1AEFA4CBAF054D64CFDA26EB6FFF32C2973D6579FC78EE2603EA4AB9C558B59475BE83D246F681815970015C5B2EDD3ED5AEE9542099FF2994EAFE769"
   ]
  },
  {
   "cell_type": "code",
   "execution_count": 6,
   "id": "05ce6134",
   "metadata": {},
   "outputs": [
    {
     "name": "stdout",
     "output_type": "stream",
     "text": [
      "true\n",
      "true\n"
     ]
    },
    {
     "data": {
      "text/plain": [
       "'0xa664b'"
      ]
     },
     "execution_count": 6,
     "metadata": {},
     "output_type": "execute_result"
    }
   ],
   "source": [
    "def rsa_1024_20(e):\n",
    "    c = int('8ca038be26e8cc7229c25312e37693d14077d440fed86ade047ce6d33f57420cfdb539795c6d232787321100c8b58a532956724455ceaa3a5c31d060131a205a33f802ceb0a603eb4d722426952ddc85104cae011ac09c2dcf5f374d328fe6051822436de3935f8312db5ceb07803de9e23f0e6a4abef850d183c3e4b20d2e13', 16)\n",
    "    n = int('C93F5BCC500C507706046ABEC8DF7F152B5C49F0852DFA282A7F7AB4D971C3C5CAC1BDB82951E7761C8B8755C1E602718E45F8E63E7846300D702A57C544E87D33F872F1AEFA4CBAF054D64CFDA26EB6FFF32C2973D6579FC78EE2603EA4AB9C558B59475BE83D246F681815970015C5B2EDD3ED5AEE9542099FF2994EAFE769', 16)\n",
    "    \n",
    "    X = []\n",
    "    for i in range(2 ** 10):\n",
    "        x = []\n",
    "        x.append(i + 1)\n",
    "        x.append(((i + 1) ** e) % n)\n",
    "        X.append(x)\n",
    "    \n",
    "    C = []\n",
    "    for i in range(1024):\n",
    "        C.append((c * gmpy2.invert(X[i][1], n)) % n)\n",
    "    \n",
    "    ind = []\n",
    "    for i in range(len(C)):\n",
    "        for j in range(len(X)):\n",
    "            if C[i] == X[j][1]:\n",
    "                ind.append(i)\n",
    "                ind.append(j)\n",
    "    \n",
    "    # check for (T*S)^e\n",
    "    if c == (C[ind[0]] * (((ind[0] + 1) ** e) % n) % n):\n",
    "        print(\"true\")\n",
    "    else:\n",
    "        print(\"false\")\n",
    "    \n",
    "    if (((ind[1] + 1) * (ind[0] + 1)) ** e) % n == c:\n",
    "        print(\"true\")\n",
    "    else:\n",
    "        print(\"false\")\n",
    "    \n",
    "    return hex((ind[1] + 1) * (ind[0] + 1))\n",
    "\n",
    "rsa_1024_20(65537)"
   ]
  },
  {
   "cell_type": "markdown",
   "id": "cf42f90a",
   "metadata": {},
   "source": [
    "RSA_2048_20 (достатній)\n",
    "\n",
    "C = 0x590a7b64da2b76061ea96c999aacf921c834b5bf31da759e5075b5a31e0576b5ed2039802495fd15b2f1111bf1556fdda781bee0ca36f9ad418bbf5fda01ab8c7b1626b9b6bed2621ca155d10f70719c26e995607a336f08d3e193f3b4b4a76c3dddc5971e5e86e6f97ebf2d10f1013553675e1e1a13df33f72e5624fbe6ee55e7cd22fa0431ef5a5866212f21550d8607a4c454533c987eb9da6eaad2fbccae46f4417b0aacb8de60eedc129e219979f7c968ce9565369ef9bd08e8f5ae888ba3d82fd1faeccf3f3390ef3fc7aee263af64813b59f1b21e09876575e330cde6caafefaf8b908aa4d58aae698492032f9ad3c599fccfcfa8c5b5b99165ff9e39\n",
    "\n",
    "N = 0xEDE7F0C022AED9E0F314F0A872564DA2B3E84C76A7B36D23626BE0EDB2501341842E39EDBC5DE20F56B4474594076ABA4BBD21B0C747439A629C30C5B0E2E89364B07DFABCB75FDCDB9306650A8FB1C62623B04BA779E5549988A8F426CAF4A3450C84C1654F022678EB6F96C35CF91B3A632BDC05604B9C4DDDCBECAA372C0D7FB4E97089CB8263BA6E2AD503C75FF1E7839709B959AEA3DCA3996BFB46C5A0F91F462849234D38E589DFB92C2BEB358523255F8E0B1515A0E72DAEB7F48AA92EBC6BCB98676854F78395085A3E809DAA7543A5E98415BDD4A751AFB161A2B952C59E2C0207D9A41DD4C7C659B7EDCAAEB8FD075331BF465751FA78A8691BEB"
   ]
  },
  {
   "cell_type": "code",
   "execution_count": 7,
   "id": "03303c92",
   "metadata": {},
   "outputs": [
    {
     "name": "stdout",
     "output_type": "stream",
     "text": [
      "true\n",
      "true\n"
     ]
    },
    {
     "data": {
      "text/plain": [
       "'0xaeb7d'"
      ]
     },
     "execution_count": 7,
     "metadata": {},
     "output_type": "execute_result"
    }
   ],
   "source": [
    "def rsa_2048_20(e):\n",
    "    c = int('590a7b64da2b76061ea96c999aacf921c834b5bf31da759e5075b5a31e0576b5ed2039802495fd15b2f1111bf1556fdda781bee0ca36f9ad418bbf5fda01ab8c7b1626b9b6bed2621ca155d10f70719c26e995607a336f08d3e193f3b4b4a76c3dddc5971e5e86e6f97ebf2d10f1013553675e1e1a13df33f72e5624fbe6ee55e7cd22fa0431ef5a5866212f21550d8607a4c454533c987eb9da6eaad2fbccae46f4417b0aacb8de60eedc129e219979f7c968ce9565369ef9bd08e8f5ae888ba3d82fd1faeccf3f3390ef3fc7aee263af64813b59f1b21e09876575e330cde6caafefaf8b908aa4d58aae698492032f9ad3c599fccfcfa8c5b5b99165ff9e39', 16)\n",
    "    n = int('EDE7F0C022AED9E0F314F0A872564DA2B3E84C76A7B36D23626BE0EDB2501341842E39EDBC5DE20F56B4474594076ABA4BBD21B0C747439A629C30C5B0E2E89364B07DFABCB75FDCDB9306650A8FB1C62623B04BA779E5549988A8F426CAF4A3450C84C1654F022678EB6F96C35CF91B3A632BDC05604B9C4DDDCBECAA372C0D7FB4E97089CB8263BA6E2AD503C75FF1E7839709B959AEA3DCA3996BFB46C5A0F91F462849234D38E589DFB92C2BEB358523255F8E0B1515A0E72DAEB7F48AA92EBC6BCB98676854F78395085A3E809DAA7543A5E98415BDD4A751AFB161A2B952C59E2C0207D9A41DD4C7C659B7EDCAAEB8FD075331BF465751FA78A8691BEB', 16)\n",
    "    \n",
    "    X = []\n",
    "    for i in range(2 ** 10):\n",
    "        x = []\n",
    "        x.append(i + 1)\n",
    "        x.append(((i + 1) ** e) % n)\n",
    "        X.append(x)\n",
    "    \n",
    "    C = []\n",
    "    for i in range(1024):\n",
    "        C.append((c * gmpy2.invert(X[i][1], n)) % n)\n",
    "    \n",
    "    ind = []\n",
    "    for i in range(len(C)):\n",
    "        for j in range(len(X)):\n",
    "            if C[i] == X[j][1]:\n",
    "                ind.append(i)\n",
    "                ind.append(j)\n",
    "    \n",
    "    # check for (T*S)^e\n",
    "    if c == (C[ind[0]] * (((ind[0] + 1) ** e) % n) % n):\n",
    "        print(\"true\")\n",
    "    else:\n",
    "        print(\"false\")\n",
    "    \n",
    "    if (((ind[1] + 1) * (ind[0] + 1)) ** e) % n == c:\n",
    "        print(\"true\")\n",
    "    else:\n",
    "        print(\"false\")\n",
    "    \n",
    "    return hex((ind[1] + 1) * (ind[0] + 1))\n",
    "\n",
    "rsa_2048_20(65537)"
   ]
  },
  {
   "cell_type": "markdown",
   "id": "0066e9c9",
   "metadata": {},
   "source": [
    "RSA_2048_56 (високий)\n",
    "\n",
    "C = 0x7d25d60cb5259aa465d5a8157fb13849262a77dac1a50837d62d0079fbddad278a51660ddbed0905c0b6ccb484abb0cf422f67da7fefcbf8c8b531b8558f515c52aa67ffce01649232b736cf91316b4893729daf91d891081b40732badd7c26ef49ad9a87fba88bfa04f1e1f9f3a51ed96d4842a34c32d56a5d76e038e137dc2df402d953293c5c66e1c893de6eaa8102728fe7fbbe2c142e6b1f82b1719ad564b78df4e430f2460fcf0ecfc3bdbce213c876a0953d87bdea8bb44793e039cf2ceb67abc829b94d20f2ffeebe94a97c06e070639171852c1f8b2f3fce30ad3e80b0ecd104d263024df499811cb20dbbc6351a1fbcb39a769f08dc670b6ab9321\n",
    "\n",
    "N = 0xA4D8121629DB3F4CC2FC3A23E420BCF8482EF368A09CC81EAA9A57D61C499818239A883A8CC8FDD2EE30087036F097A6714102C1D49F12438C7AAC07226CF112F60B67A09C0FC97A0ED9464B47ABED9E02C6466B629781F3445F5D29B25D9DDB934B45C0F5AE7E07A9D3E0C4DBB5EF745B064AB1E36858740E9FB9532EDBFC3FFC3BF9A3153627D722AA187252A9127FBCF4B6B8C4D349EF3A4E132350846EBB65DD53F3D71197A0D3B176894E54F90A8810C90E071F4E69E82C6AFDEBBD1C8784D6091CCF45FCB70C82003B583A065EC72C8067A57FF89D28DD35760EA4FA8D59173758247B081EB677D78635A043D9E6DDCF97F067A41745811FD03C6196FD"
   ]
  },
  {
   "cell_type": "code",
   "execution_count": null,
   "id": "75b719c5",
   "metadata": {},
   "outputs": [],
   "source": []
  },
  {
   "cell_type": "code",
   "execution_count": null,
   "id": "dc464aeb",
   "metadata": {},
   "outputs": [],
   "source": []
  },
  {
   "cell_type": "code",
   "execution_count": null,
   "id": "09246402",
   "metadata": {},
   "outputs": [],
   "source": []
  }
 ],
 "metadata": {
  "kernelspec": {
   "display_name": "Python 3",
   "language": "python",
   "name": "python3"
  },
  "language_info": {
   "codemirror_mode": {
    "name": "ipython",
    "version": 3
   },
   "file_extension": ".py",
   "mimetype": "text/x-python",
   "name": "python",
   "nbconvert_exporter": "python",
   "pygments_lexer": "ipython3",
   "version": "3.8.8"
  }
 },
 "nbformat": 4,
 "nbformat_minor": 5
}
