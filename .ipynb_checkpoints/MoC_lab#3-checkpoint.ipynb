{
 "cells": [
  {
   "cell_type": "code",
   "execution_count": 1,
   "id": "d60051f3",
   "metadata": {},
   "outputs": [],
   "source": [
    "from Crypto.Util import number\n",
    "import gmpy2\n",
    "import numpy as np"
   ]
  },
  {
   "cell_type": "code",
   "execution_count": null,
   "id": "a300cf34",
   "metadata": {},
   "outputs": [],
   "source": []
  },
  {
   "cell_type": "code",
   "execution_count": null,
   "id": "a67550f8",
   "metadata": {},
   "outputs": [],
   "source": []
  },
  {
   "cell_type": "code",
   "execution_count": null,
   "id": "d400c003",
   "metadata": {},
   "outputs": [],
   "source": []
  },
  {
   "cell_type": "code",
   "execution_count": null,
   "id": "db4f3430",
   "metadata": {},
   "outputs": [],
   "source": []
  },
  {
   "cell_type": "markdown",
   "id": "fc077d75",
   "metadata": {},
   "source": [
    "**MitM-attack**\n",
    "\n",
    "RSA_256_3 (мінімальний)\n",
    "\n",
    "C = 0x9ffb6833b6c55688296a7929cd76fcd196f20f159f39644cb53f1ed9b0e718e8e0e0863c4d034323b4cede40495367c6e519f69b14bc344ed8f8428f59625224\n",
    "\n",
    "N = 0xB0DB31CB2D5A30B496102504A95B3CB50D63E2E2FCB39A39DCB6AC6CF5FF0A5F35F7D881F11B34EFCEEE338FA8D520E6CF4790ADD4E67488569943D59CC741D1"
   ]
  },
  {
   "cell_type": "code",
   "execution_count": 4,
   "id": "1e68a0ea",
   "metadata": {},
   "outputs": [
    {
     "name": "stdout",
     "output_type": "stream",
     "text": [
      "true\n",
      "true\n"
     ]
    },
    {
     "data": {
      "text/plain": [
       "'0xa44cd'"
      ]
     },
     "execution_count": 4,
     "metadata": {},
     "output_type": "execute_result"
    }
   ],
   "source": [
    "def rsa_512_20(e):\n",
    "    c = int('9ffb6833b6c55688296a7929cd76fcd196f20f159f39644cb53f1ed9b0e718e8e0e0863c4d034323b4cede40495367c6e519f69b14bc344ed8f8428f59625224', 16)\n",
    "    n = int('B0DB31CB2D5A30B496102504A95B3CB50D63E2E2FCB39A39DCB6AC6CF5FF0A5F35F7D881F11B34EFCEEE338FA8D520E6CF4790ADD4E67488569943D59CC741D1', 16)\n",
    "    \n",
    "    X = []\n",
    "    for i in range(2 ** 10):\n",
    "        x = []\n",
    "        x.append(i + 1)\n",
    "        x.append(((i + 1) ** e) % n)\n",
    "        X.append(x)\n",
    "    \n",
    "    C = []\n",
    "    for i in range(1024):\n",
    "        C.append((c * gmpy2.invert(X[i][1], n)) % n)\n",
    "    \n",
    "    ind = []\n",
    "    for i in range(len(C)):\n",
    "        for j in range(len(X)):\n",
    "            if C[i] == X[j][1]:\n",
    "                ind.append(i)\n",
    "                ind.append(j)\n",
    "    \n",
    "    # check for (T*S)^e\n",
    "    if c == (C[ind[0]] * (((ind[0] + 1) ** e) % n) % n):\n",
    "        print(\"true\")\n",
    "    else:\n",
    "        print(\"false\")\n",
    "    \n",
    "    if (((ind[1] + 1) * (ind[0] + 1)) ** e) % n == c:\n",
    "        print(\"true\")\n",
    "    else:\n",
    "        print(\"false\")\n",
    "    \n",
    "    return hex((ind[1] + 1) * (ind[0] + 1))\n",
    "    \n",
    "rsa_512_20(65537)"
   ]
  },
  {
   "cell_type": "markdown",
   "id": "3be0c718",
   "metadata": {},
   "source": [
    "RSA_1024_20 (середній)\n",
    "\n",
    "C = 0x8ca038be26e8cc7229c25312e37693d14077d440fed86ade047ce6d33f57420cfdb539795c6d232787321100c8b58a532956724455ceaa3a5c31d060131a205a33f802ceb0a603eb4d722426952ddc85104cae011ac09c2dcf5f374d328fe6051822436de3935f8312db5ceb07803de9e23f0e6a4abef850d183c3e4b20d2e13\n",
    "\n",
    "N = 0xC93F5BCC500C507706046ABEC8DF7F152B5C49F0852DFA282A7F7AB4D971C3C5CAC1BDB82951E7761C8B8755C1E602718E45F8E63E7846300D702A57C544E87D33F872F1AEFA4CBAF054D64CFDA26EB6FFF32C2973D6579FC78EE2603EA4AB9C558B59475BE83D246F681815970015C5B2EDD3ED5AEE9542099FF2994EAFE769"
   ]
  },
  {
   "cell_type": "code",
   "execution_count": 6,
   "id": "ca5ba48a",
   "metadata": {},
   "outputs": [
    {
     "name": "stdout",
     "output_type": "stream",
     "text": [
      "true\n",
      "true\n"
     ]
    },
    {
     "data": {
      "text/plain": [
       "'0xa664b'"
      ]
     },
     "execution_count": 6,
     "metadata": {},
     "output_type": "execute_result"
    }
   ],
   "source": [
    "def rsa_1024_20(e):\n",
    "    c = int('8ca038be26e8cc7229c25312e37693d14077d440fed86ade047ce6d33f57420cfdb539795c6d232787321100c8b58a532956724455ceaa3a5c31d060131a205a33f802ceb0a603eb4d722426952ddc85104cae011ac09c2dcf5f374d328fe6051822436de3935f8312db5ceb07803de9e23f0e6a4abef850d183c3e4b20d2e13', 16)\n",
    "    n = int('C93F5BCC500C507706046ABEC8DF7F152B5C49F0852DFA282A7F7AB4D971C3C5CAC1BDB82951E7761C8B8755C1E602718E45F8E63E7846300D702A57C544E87D33F872F1AEFA4CBAF054D64CFDA26EB6FFF32C2973D6579FC78EE2603EA4AB9C558B59475BE83D246F681815970015C5B2EDD3ED5AEE9542099FF2994EAFE769', 16)\n",
    "    \n",
    "    X = []\n",
    "    for i in range(2 ** 10):\n",
    "        x = []\n",
    "        x.append(i + 1)\n",
    "        x.append(((i + 1) ** e) % n)\n",
    "        X.append(x)\n",
    "    \n",
    "    C = []\n",
    "    for i in range(1024):\n",
    "        C.append((c * gmpy2.invert(X[i][1], n)) % n)\n",
    "    \n",
    "    ind = []\n",
    "    for i in range(len(C)):\n",
    "        for j in range(len(X)):\n",
    "            if C[i] == X[j][1]:\n",
    "                ind.append(i)\n",
    "                ind.append(j)\n",
    "    \n",
    "    # check for (T*S)^e\n",
    "    if c == (C[ind[0]] * (((ind[0] + 1) ** e) % n) % n):\n",
    "        print(\"true\")\n",
    "    else:\n",
    "        print(\"false\")\n",
    "    \n",
    "    if (((ind[1] + 1) * (ind[0] + 1)) ** e) % n == c:\n",
    "        print(\"true\")\n",
    "    else:\n",
    "        print(\"false\")\n",
    "    \n",
    "    return hex((ind[1] + 1) * (ind[0] + 1))\n",
    "\n",
    "rsa_1024_20(65537)"
   ]
  },
  {
   "cell_type": "code",
   "execution_count": null,
   "id": "5ef67229",
   "metadata": {},
   "outputs": [],
   "source": []
  },
  {
   "cell_type": "code",
   "execution_count": null,
   "id": "dc464aeb",
   "metadata": {},
   "outputs": [],
   "source": []
  },
  {
   "cell_type": "code",
   "execution_count": null,
   "id": "09246402",
   "metadata": {},
   "outputs": [],
   "source": []
  }
 ],
 "metadata": {
  "kernelspec": {
   "display_name": "Python 3",
   "language": "python",
   "name": "python3"
  },
  "language_info": {
   "codemirror_mode": {
    "name": "ipython",
    "version": 3
   },
   "file_extension": ".py",
   "mimetype": "text/x-python",
   "name": "python",
   "nbconvert_exporter": "python",
   "pygments_lexer": "ipython3",
   "version": "3.8.8"
  }
 },
 "nbformat": 4,
 "nbformat_minor": 5
}
